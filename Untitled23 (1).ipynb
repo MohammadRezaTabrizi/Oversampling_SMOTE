{
 "cells": [
  {
   "cell_type": "code",
   "execution_count": 1,
   "metadata": {
    "colab": {
     "base_uri": "https://localhost:8080/",
     "height": 183
    },
    "colab_type": "code",
    "id": "DYNjN4NUcVLR",
    "outputId": "5c769ad9-4b8d-4901-edbf-03be9834ff63"
   },
   "outputs": [
    {
     "name": "stderr",
     "output_type": "stream",
     "text": [
      "C:\\Users\\USER\\anaconda3\\lib\\site-packages\\sklearn\\externals\\joblib\\__init__.py:15: FutureWarning: sklearn.externals.joblib is deprecated in 0.21 and will be removed in 0.23. Please import this functionality directly from joblib, which can be installed with: pip install joblib. If this warning is raised when loading pickled models, you may need to re-serialize those models with scikit-learn 0.21+.\n",
      "  warnings.warn(msg, category=FutureWarning)\n",
      "Using TensorFlow backend.\n"
     ]
    }
   ],
   "source": [
    "from sklearn.model_selection import train_test_split\n",
    "import tensorflow as tf\n",
    "from imblearn.over_sampling import SMOTE\n",
    "from collections import Counter\n",
    "import pandas as pd\n",
    "import numpy as np\n",
    "from numpy import expand_dims\n",
    "import random\n",
    "from imblearn.over_sampling import RandomOverSampler\n",
    "from imblearn.under_sampling import RandomUnderSampler\n",
    "from keras.models import Model,Sequential"
   ]
  },
  {
   "cell_type": "code",
   "execution_count": 2,
   "metadata": {
    "colab": {},
    "colab_type": "code",
    "id": "KkAH1LNWcVLY"
   },
   "outputs": [],
   "source": [
    "labels = []\n",
    "imagens = []\n",
    "def load_data(data_directory):\n",
    "    dirs = [d for d in os.listdir(data_directory)\n",
    "        if os.path.isdir(os.path.join(data_directory,d))]\n",
    "\n",
    "\n",
    "    for d in dirs:\n",
    "        label_dir = os.path.join(data_directory,d)\n",
    "        file_name = [os.path.join(label_dir, f)\n",
    "                    for f in tqdm(os.listdir(label_dir))\n",
    "                    if f.endswith(\".png\")]\n",
    "       \n",
    "        for f in file_name:\n",
    "            img_file =(cv2.imread(f))\n",
    "            img_file = skimage.transform.resize(img_file, (50, 50, 3),mode='constant',anti_aliasing=True)\n",
    "            #img_file = rgb2gray(img_file)\n",
    "            img_arr = np.asarray(img_file)\n",
    "            imagens.append(img_file)\n",
    "            labels.append(int(d))\n",
    "\n",
    "    return imagens, labels"
   ]
  },
  {
   "cell_type": "code",
   "execution_count": 3,
   "metadata": {
    "colab": {
     "base_uri": "https://localhost:8080/",
     "height": 440
    },
    "colab_type": "code",
    "id": "98HWPDFZcVLe",
    "outputId": "46dad14e-a768-4fc7-903c-ec75dbe46a8b"
   },
   "outputs": [
    {
     "name": "stderr",
     "output_type": "stream",
     "text": [
      "100%|██████████| 772/772 [00:00<?, ?it/s]\n",
      "100%|██████████| 207/207 [00:00<00:00, 13247.60it/s]\n",
      "100%|██████████| 479/479 [00:00<00:00, 20096.75it/s]\n",
      "100%|██████████| 70/70 [00:00<?, ?it/s]\n",
      "100%|██████████| 772/772 [00:00<?, ?it/s]\n",
      "100%|██████████| 76/76 [00:00<?, ?it/s]\n",
      "100%|██████████| 181/181 [00:00<00:00, 11642.09it/s]\n",
      "100%|██████████| 91/91 [00:00<?, ?it/s]\n",
      "100%|██████████| 351/351 [00:00<?, ?it/s]\n",
      "100%|██████████| 117/117 [00:00<?, ?it/s]\n",
      "100%|██████████| 427/427 [00:00<?, ?it/s]\n",
      "100%|██████████| 208/208 [00:00<?, ?it/s]\n",
      "100%|██████████| 422/422 [00:00<?, ?it/s]\n",
      "100%|██████████| 108/108 [00:00<?, ?it/s]\n",
      "100%|██████████| 1434/1434 [00:00<00:00, 70227.47it/s]\n",
      "100%|██████████| 31/31 [00:00<?, ?it/s]\n",
      "100%|██████████| 928/928 [00:00<00:00, 55514.87it/s]\n",
      "100%|██████████| 361/361 [00:00<00:00, 21491.54it/s]\n",
      "100%|██████████| 590/590 [00:00<?, ?it/s]\n",
      "100%|██████████| 56/56 [00:00<00:00, 3714.36it/s]\n",
      "100%|██████████| 1053/1053 [00:00<?, ?it/s]\n",
      "100%|██████████| 754/754 [00:00<?, ?it/s]\n",
      "100%|██████████| 617/617 [00:00<?, ?it/s]\n",
      "100%|██████████| 587/587 [00:00<00:00, 34588.19it/s]\n",
      "100%|██████████| 2086/2086 [00:00<00:00, 60944.53it/s]\n",
      "100%|██████████| 23/23 [00:00<?, ?it/s]\n",
      "100%|██████████| 904/904 [00:00<00:00, 37386.37it/s]\n",
      "100%|██████████| 250/250 [00:00<?, ?it/s]\n",
      "100%|██████████| 2150/2150 [00:00<00:00, 137250.26it/s]\n",
      "100%|██████████| 25/25 [00:00<?, ?it/s]\n",
      "100%|██████████| 811/811 [00:00<00:00, 51744.51it/s]\n",
      "100%|██████████| 1211/1211 [00:00<00:00, 42484.71it/s]\n",
      "100%|██████████| 659/659 [00:00<?, ?it/s]\n",
      "100%|██████████| 219/219 [00:00<?, ?it/s]\n",
      "100%|██████████| 297/297 [00:00<00:00, 19003.36it/s]\n",
      "100%|██████████| 760/760 [00:00<00:00, 33483.24it/s]\n",
      "100%|██████████| 591/591 [00:00<00:00, 21742.63it/s]\n",
      "100%|██████████| 348/348 [00:00<?, ?it/s]\n",
      "100%|██████████| 785/785 [00:00<?, ?it/s]\n",
      "100%|██████████| 170/170 [00:00<?, ?it/s]\n",
      "100%|██████████| 1068/1068 [00:00<?, ?it/s]\n",
      "100%|██████████| 91/91 [00:00<?, ?it/s]\n",
      "100%|██████████| 1267/1267 [00:00<00:00, 44143.23it/s]\n",
      "100%|██████████| 427/427 [00:00<00:00, 27749.73it/s]\n",
      "100%|██████████| 1835/1835 [00:00<00:00, 68896.96it/s]\n",
      "100%|██████████| 198/198 [00:00<?, ?it/s]\n",
      "100%|██████████| 1011/1011 [00:00<00:00, 62762.77it/s]\n",
      "100%|██████████| 222/222 [00:00<?, ?it/s]\n",
      "100%|██████████| 458/458 [00:00<00:00, 21976.04it/s]\n",
      "100%|██████████| 162/162 [00:00<?, ?it/s]\n",
      "100%|██████████| 2231/2231 [00:00<00:00, 62328.43it/s]\n",
      "100%|██████████| 47/47 [00:00<?, ?it/s]\n",
      "100%|██████████| 1891/1891 [00:00<00:00, 401449.05it/s]\n",
      "100%|██████████| 140/140 [00:00<?, ?it/s]\n",
      "100%|██████████| 999/999 [00:00<00:00, 63969.19it/s]\n",
      "100%|██████████| 213/213 [00:00<00:00, 9014.91it/s]\n",
      "100%|██████████| 998/998 [00:00<?, ?it/s]\n",
      "100%|██████████| 487/487 [00:00<00:00, 24523.09it/s]\n",
      "100%|██████████| 649/649 [00:00<00:00, 34852.29it/s]\n",
      "100%|██████████| 221/221 [00:00<?, ?it/s]\n"
     ]
    }
   ],
   "source": [
    "a=1000\n",
    "for x in range(1000,1030):\n",
    "    X,y =load_data(str(a))\n",
    "    a=a+1\n",
    " \n"
   ]
  },
  {
   "cell_type": "code",
   "execution_count": 4,
   "metadata": {
    "colab": {
     "base_uri": "https://localhost:8080/",
     "height": 50
    },
    "colab_type": "code",
    "id": "_OBM8mBthMnd",
    "outputId": "b9931c7a-ada5-4fd3-e14c-4b0bcde202c2"
   },
   "outputs": [
    {
     "name": "stdout",
     "output_type": "stream",
     "text": [
      "36596\n",
      "36596\n"
     ]
    }
   ],
   "source": [
    "print(len(imagens))\n",
    "print(len(labels))"
   ]
  },
  {
   "cell_type": "code",
   "execution_count": 5,
   "metadata": {
    "colab": {},
    "colab_type": "code",
    "id": "zxX7xbx1UT5u"
   },
   "outputs": [],
   "source": [
    "\n",
    "np.save('y_BD.npy',labels)\n"
   ]
  },
  {
   "cell_type": "code",
   "execution_count": 6,
   "metadata": {
    "colab": {},
    "colab_type": "code",
    "id": "HwYGZU9PUT54"
   },
   "outputs": [],
   "source": [
    "np.save('x_BD.npy', imagens)\n"
   ]
  },
  {
   "cell_type": "code",
   "execution_count": 7,
   "metadata": {},
   "outputs": [],
   "source": [
    "X_all = np.load('x_BD.npy')\n",
    "y_all = np.load('y_BD.npy')"
   ]
  },
  {
   "cell_type": "code",
   "execution_count": 8,
   "metadata": {
    "colab": {},
    "colab_type": "code",
    "id": "YZTAsrvG0dPd"
   },
   "outputs": [],
   "source": [
    "def count_labels(y_all):\n",
    "  how_many_0 = len(np.where(y_all==0)[0])\n",
    "  how_many_1 = len(np.where(y_all==1)[0])\n",
    "  how_many_2 = len(np.where(y_all==2)[0])\n",
    "  how_many_3 = len(np.where(y_all==3)[0])\n",
    "\n",
    "  print('#NoNCancer:',how_many_0)\n",
    "  print('#Cancerl:',how_many_1)\n"
   ]
  },
  {
   "cell_type": "code",
   "execution_count": 9,
   "metadata": {
    "colab": {
     "base_uri": "https://localhost:8080/",
     "height": 98
    },
    "colab_type": "code",
    "id": "cN50LHuuXFUv",
    "outputId": "890fce8c-4832-43d7-d411-5ea2a3785c21"
   },
   "outputs": [
    {
     "name": "stdout",
     "output_type": "stream",
     "text": [
      "X_all: (36596, 50, 50, 3)\n",
      "y_all: (36596,)\n",
      "X_all: (36596, 50, 50, 3)\n",
      "#NoNCancer: 28716\n",
      "#Cancerl: 7880\n"
     ]
    }
   ],
   "source": [
    "print('X_all:',X_all.shape)\n",
    "print('y_all:',y_all.shape)\n",
    "#X_all = X_all.reshape(len(y_all),50,50,3)\n",
    "print('X_all:',X_all.shape)\n",
    "count_labels(y_all)"
   ]
  },
  {
   "cell_type": "markdown",
   "metadata": {
    "colab_type": "text",
    "id": "OPvYbvti2bZQ"
   },
   "source": [
    "### Oversampling | SMOTE\n",
    "* * Vetorizar inputs"
   ]
  },
  {
   "cell_type": "code",
   "execution_count": 10,
   "metadata": {
    "colab": {
     "base_uri": "https://localhost:8080/",
     "height": 33
    },
    "colab_type": "code",
    "id": "2J9hzWAF2hes",
    "outputId": "f6c2ad24-05ab-43f9-e8fb-b2009a037ff0"
   },
   "outputs": [
    {
     "name": "stdout",
     "output_type": "stream",
     "text": [
      "(36596, 50, 50, 3)\n"
     ]
    }
   ],
   "source": [
    "X_all_vec=[]\n",
    "X_allReshaped = X_all.reshape(len(X_all),50,50,3)\n",
    "print(X_allReshaped.shape)\n",
    "for i in X_allReshaped:\n",
    "    img = i\n",
    "    #print(img.shape)\n",
    "    cols,colors,dim = img.shape # gives dimensions for RGB array\n",
    "    img_size = cols*colors*dim\n",
    "    img_1D_vector = img.reshape(img_size)\n",
    "    # you can recover the orginal image with:\n",
    "    img2 = img_1D_vector.reshape(cols,colors,dim)\n",
    "    X_all_vec.append(img_1D_vector)"
   ]
  },
  {
   "cell_type": "markdown",
   "metadata": {
    "colab_type": "text",
    "id": "HxaPTE5F21sB"
   },
   "source": [
    "* Partição dos dados"
   ]
  },
  {
   "cell_type": "code",
   "execution_count": 11,
   "metadata": {
    "colab": {},
    "colab_type": "code",
    "id": "x-x6pQ2qArkk"
   },
   "outputs": [],
   "source": [
    "X_train_3_vec, X_test_3_vec, y_train_3, y_test_3 = train_test_split(X_all_vec,y_all, test_size = 0.3,random_state=10)\n",
    "X_train_3_vec, X_val_3_vec, y_train_3, y_val_3 = train_test_split(X_train_3_vec,y_train_3, test_size = 0.3,random_state=10)"
   ]
  },
  {
   "cell_type": "markdown",
   "metadata": {
    "colab_type": "text",
    "id": "gSc6N26A3nUR"
   },
   "source": [
    "* Oversampling train dataset"
   ]
  },
  {
   "cell_type": "code",
   "execution_count": 12,
   "metadata": {
    "colab": {
     "base_uri": "https://localhost:8080/",
     "height": 70
    },
    "colab_type": "code",
    "id": "lCW0hUbxAro4",
    "outputId": "776f76dd-5077-41b0-992d-754ad6563586"
   },
   "outputs": [
    {
     "name": "stdout",
     "output_type": "stream",
     "text": [
      "Counter({0: 14093, 1: 14093})\n"
     ]
    }
   ],
   "source": [
    "#SMOTE works by selecting examples that are close in the feature space, drawing a line between the examples in the feature space and drawing a new sample at a point along that line.\n",
    "#Specifically, a random example from the minority class is first chosen. Then k of the nearest neighbors for that example are found (typically k=5). \n",
    "#A randomly selected neighbor is chosen and a synthetic example is created at a randomly selected point between the two examples in feature space.\n",
    "#NOVO\n",
    "from imblearn.over_sampling import SMOTE\n",
    "oversample = SMOTE(random_state=42)\n",
    "# fit and apply the transform\n",
    "X_over_vec, y_over = oversample.fit_resample(X_train_3_vec, y_train_3)\n",
    "# summarize class distribution\n",
    "print(Counter(y_over))"
   ]
  },
  {
   "cell_type": "markdown",
   "metadata": {
    "colab_type": "text",
    "id": "Enqk2csJ3gvz"
   },
   "source": [
    "* Reshape"
   ]
  },
  {
   "cell_type": "code",
   "execution_count": 13,
   "metadata": {
    "colab": {
     "base_uri": "https://localhost:8080/",
     "height": 85
    },
    "colab_type": "code",
    "id": "6C1qkiYbaRiI",
    "outputId": "77e7baa6-1581-4046-df37-8124fa54714a"
   },
   "outputs": [
    {
     "name": "stdout",
     "output_type": "stream",
     "text": [
      "(28186, 50, 50, 3)\n",
      "(17931, 50, 50, 3)\n",
      "(7686, 50, 50, 3)\n",
      "(10979, 50, 50, 3)\n"
     ]
    }
   ],
   "source": [
    "X_over = np.array(X_over_vec).reshape(len(y_over),50,50,3)\n",
    "X_val_3=np.array(X_val_3_vec)\n",
    "X_val_3 = X_val_3.reshape(len(y_val_3),50,50,3)\n",
    "X_test_3=np.array(X_test_3_vec)\n",
    "X_test_3 = X_test_3.reshape(len(y_test_3),50,50,3)\n",
    "X_train_3=np.array(X_train_3_vec)\n",
    "X_train_3 = X_train_3.reshape(len(y_train_3),50,50,3)\n",
    "print(X_over.shape)\n",
    "print(X_train_3.shape)\n",
    "print(X_val_3.shape)\n",
    "print(X_test_3.shape)"
   ]
  },
  {
   "cell_type": "code",
   "execution_count": 14,
   "metadata": {},
   "outputs": [],
   "source": [
    "np.save('X_over.npy',X_over)"
   ]
  },
  {
   "cell_type": "code",
   "execution_count": 15,
   "metadata": {},
   "outputs": [],
   "source": [
    "np.save('X_val_3.npy',X_val_3)"
   ]
  },
  {
   "cell_type": "code",
   "execution_count": 16,
   "metadata": {},
   "outputs": [],
   "source": [
    "np.save('X_test_3.npy',X_test_3)"
   ]
  },
  {
   "cell_type": "code",
   "execution_count": 17,
   "metadata": {},
   "outputs": [],
   "source": [
    "np.save('X_train_3.npy',X_train_3)"
   ]
  },
  {
   "cell_type": "code",
   "execution_count": 18,
   "metadata": {},
   "outputs": [],
   "source": [
    "np.save('y_val_3.npy',y_val_3)\n",
    "np.save('y_train_3.npy',y_train_3)\n",
    "np.save('y_test_3.npy',y_test_3)"
   ]
  }
 ],
 "metadata": {
  "accelerator": "GPU",
  "colab": {
   "name": "Untitled23.ipynb",
   "provenance": []
  },
  "kernelspec": {
   "display_name": "Python 3",
   "language": "python",
   "name": "python3"
  },
  "language_info": {
   "codemirror_mode": {
    "name": "ipython",
    "version": 3
   },
   "file_extension": ".py",
   "mimetype": "text/x-python",
   "name": "python",
   "nbconvert_exporter": "python",
   "pygments_lexer": "ipython3",
   "version": "3.7.6"
  }
 },
 "nbformat": 4,
 "nbformat_minor": 1
}
